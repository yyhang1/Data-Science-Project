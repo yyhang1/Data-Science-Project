{
 "cells": [
  {
   "cell_type": "code",
   "execution_count": 1,
   "metadata": {},
   "outputs": [
    {
     "name": "stdout",
     "output_type": "stream",
     "text": [
      "ISR                                                               203656231\n",
      "Date received                                                     2022/1/23\n",
      "Outcome                                                                 NaN\n",
      "Drug_seq                                                     203656000000.0\n",
      "Original name                                                       OZEMPIC\n",
      "Pharma product                                                      ozempic\n",
      "Drug name                                                       semaglutide\n",
      "Role code                                              Primary Suspect Drug\n",
      "Route                                                          Subcutaneous\n",
      "Dosis                                                            0.5 mg, qw\n",
      "Calculated daily dosis                                                  NaN\n",
      "Indication                              product used for unknown indication\n",
      "Event                     abdominal pain upper / dry eye / dry mouth / d...\n",
      "Case_id                                                            20365623\n",
      "Gender                                                                  F  \n",
      "Reporter country                                                         US\n",
      "Age in report                                                            64\n",
      "Name: 5, dtype: object\n"
     ]
    }
   ],
   "source": [
    "import pandas as pd\n",
    "\n",
    "# Load the data from the CSV file\n",
    "data_0 = pd.read_csv('result.csv', dtype={16: str})\n",
    "\n",
    "print(data_0.iloc[5])"
   ]
  },
  {
   "cell_type": "code",
   "execution_count": 2,
   "metadata": {},
   "outputs": [
    {
     "name": "stdout",
     "output_type": "stream",
     "text": [
      "['ISR', 'Date received', 'Outcome', 'Drug_seq', 'Original name', 'Pharma product', 'Drug name', 'Role code', 'Route', 'Dosis', 'Calculated daily dosis', 'Indication', 'Event', 'Case_id', 'Gender', 'Reporter country', 'Age in report']\n"
     ]
    }
   ],
   "source": [
    "print(data_0.columns.tolist())"
   ]
  },
  {
   "cell_type": "code",
   "execution_count": 3,
   "metadata": {},
   "outputs": [
    {
     "name": "stdout",
     "output_type": "stream",
     "text": [
      "67824\n"
     ]
    }
   ],
   "source": [
    "print(len(data_0))"
   ]
  },
  {
   "cell_type": "code",
   "execution_count": 4,
   "metadata": {},
   "outputs": [
    {
     "name": "stdout",
     "output_type": "stream",
     "text": [
      "19497\n"
     ]
    }
   ],
   "source": [
    "data = data_0[data_0['Original name'].str.contains('semaglutide|ozempic|rybelsus', case=False, na=False)]\n",
    "\n",
    "print(len(data))"
   ]
  },
  {
   "cell_type": "code",
   "execution_count": 5,
   "metadata": {},
   "outputs": [
    {
     "name": "stdout",
     "output_type": "stream",
     "text": [
      "Before: ['F  ' 'M  ' '23282017' '18209448' 'UNK' 'US' '22302222' '22142122'\n",
      " '22236873' '22100570' '22041440' '22035944' '21387630' '21459640']\n",
      "After: ['F  ' 'M  ' 'unknown']\n"
     ]
    },
    {
     "name": "stderr",
     "output_type": "stream",
     "text": [
      "C:\\Users\\BruceSu\\AppData\\Local\\Temp\\ipykernel_21196\\224107153.py:9: SettingWithCopyWarning: \n",
      "A value is trying to be set on a copy of a slice from a DataFrame.\n",
      "Try using .loc[row_indexer,col_indexer] = value instead\n",
      "\n",
      "See the caveats in the documentation: https://pandas.pydata.org/pandas-docs/stable/user_guide/indexing.html#returning-a-view-versus-a-copy\n",
      "  data['Gender'] = np.where(data['Gender'].isin(['F  ', 'M  ']), data['Gender'], 'unknown')\n"
     ]
    }
   ],
   "source": [
    "import pandas as pd\n",
    "import numpy as np\n",
    "\n",
    "# Assuming 'data' is your DataFrame and it has already been loaded\n",
    "# Check the unique values before replacement\n",
    "print(\"Before:\", data['Gender'].unique())\n",
    "\n",
    "# Replace values where the condition is false\n",
    "data['Gender'] = np.where(data['Gender'].isin(['F  ', 'M  ']), data['Gender'], 'unknown')\n",
    "\n",
    "# Check the unique values after replacement to verify changes\n",
    "print(\"After:\", data['Gender'].unique())"
   ]
  },
  {
   "cell_type": "code",
   "execution_count": 6,
   "metadata": {},
   "outputs": [
    {
     "name": "stdout",
     "output_type": "stream",
     "text": [
      "Before cleaning: ['ES' 'US' 'DK' 'CA' 'FR' 'GB' 'COUNTRY NOT SPECIFIED' 'F  ' 'PK' 'JP'\n",
      " 'M  ' 'SA' 'CH' 'NL' 'IT' 'CN' 'FI' 'JO' '61' 'BR' 'DE' 'NO' 'AT' 'AU'\n",
      " 'PL' 'IL' 'BE' 'RU' 'SE' 'AR' 'CO' 'CR' 'GR' 'PT' 'IE' '52' 'IN' 'SK'\n",
      " 'ZA' 'TR' 'CZ' 'RO' 'MX' '51' '27' 'HK' '46' 'SG' 'CL' 'PA' 'BG' 'HU'\n",
      " '70' '40' 'PH' 'LB' '68' '42' '45' '35' 'SI' '54' '49' 'GE' 'LU' 'KR'\n",
      " '63' 'DZ' 'TW' 'EG' 'MY' 'AE' '64' '57' '53' '28' 'UA' '62' '47' 'TH'\n",
      " 'IS' 'MK' 'RS' '33' '50' 'UY' 'QA' 'PR' 'DO' 'CY' '36' '26' '73' 'HR'\n",
      " '65' 'ID' '59' 'EE']\n",
      "After cleaning: ['ES' 'US' 'DK' 'CA' 'FR' 'GB' 'COUNTRY NOT SPECIFIED' 'PK' 'JP' 'SA' 'CH'\n",
      " 'NL' 'IT' 'CN' 'FI' 'JO' '61' 'BR' 'DE' 'NO' 'AT' 'AU' 'PL' 'IL' 'BE'\n",
      " 'RU' 'SE' 'AR' 'CO' 'CR' 'GR' 'PT' 'IE' '52' 'IN' 'SK' 'ZA' 'TR' 'CZ'\n",
      " 'RO' 'MX' '51' '27' 'HK' '46' 'SG' 'CL' 'PA' 'BG' 'HU' '70' '40' 'PH'\n",
      " 'LB' '68' '42' '45' '35' 'SI' '54' '49' 'GE' 'LU' 'KR' '63' 'DZ' 'TW'\n",
      " 'EG' 'MY' 'AE' '64' '57' '53' '28' 'UA' '62' '47' 'TH' 'IS' 'MK' 'RS'\n",
      " '33' '50' 'UY' 'QA' 'PR' 'DO' 'CY' '36' '26' '73' 'HR' '65' 'ID' '59'\n",
      " 'EE']\n"
     ]
    },
    {
     "name": "stderr",
     "output_type": "stream",
     "text": [
      "C:\\Users\\BruceSu\\AppData\\Local\\Temp\\ipykernel_21196\\1111600639.py:9: SettingWithCopyWarning: \n",
      "A value is trying to be set on a copy of a slice from a DataFrame.\n",
      "Try using .loc[row_indexer,col_indexer] = value instead\n",
      "\n",
      "See the caveats in the documentation: https://pandas.pydata.org/pandas-docs/stable/user_guide/indexing.html#returning-a-view-versus-a-copy\n",
      "  data['Reporter country'] = np.where(data['Reporter country'].str.len() == 2, data['Reporter country'], 'COUNTRY NOT SPECIFIED')\n"
     ]
    }
   ],
   "source": [
    "import pandas as pd\n",
    "import numpy as np\n",
    "\n",
    "# Assuming 'data' is your DataFrame and it has already been loaded\n",
    "# Check the unique values before replacement\n",
    "print(\"Before cleaning:\", data['Reporter country'].unique())\n",
    "\n",
    "# Replace values where the condition is false\n",
    "data['Reporter country'] = np.where(data['Reporter country'].str.len() == 2, data['Reporter country'], 'COUNTRY NOT SPECIFIED')\n",
    "\n",
    "# Check the unique values after replacement to verify changes\n",
    "print(\"After cleaning:\", data['Reporter country'].unique())\n"
   ]
  },
  {
   "cell_type": "code",
   "execution_count": 7,
   "metadata": {},
   "outputs": [
    {
     "name": "stdout",
     "output_type": "stream",
     "text": [
      "Before cleaning: ['63' '46' '64' '57' '52' '49' '37' '66' '67' '56' '70' '73' '76' '74'\n",
      " '59' '45' '53' '58' '54' '51' '84' '48' '68' 'US' '69' '55' '72' '42'\n",
      " '75' '78' '71' '50' '65' '62' '20' '61' '23' '60' '87' '82' '35' '21'\n",
      " '29' '44' '47' '25' '80' '90' '38' '40' nan '81' '77' '39' '36' '27' 'AU'\n",
      " '79' '30' '34' '32' '26' '43' '31' '83' '33' '19' '85' '24' '28' '41'\n",
      " '92' '91' '89' '22' '86' '88' '94' '93' '100' '18' '400' '96']\n",
      "After cleaning: [ 63.  46.  64.  57.  52.  49.  37.  66.  67.  56.  70.  73.  76.  74.\n",
      "  59.  45.  53.  58.  54.  51.  84.  48.  68.  69.  55.  72.  42.  75.\n",
      "  78.  71.  50.  65.  62.  20.  61.  23.  60.  87.  82.  35.  21.  29.\n",
      "  44.  47.  25.  80.  90.  38.  40.  81.  77.  39.  36.  27.  79.  30.\n",
      "  34.  32.  26.  43.  31.  83.  33.  19.  85.  24.  28.  41.  92.  91.\n",
      "  89.  22.  86.  88.  94.  93. 100.  18.  96.]\n",
      "19437\n"
     ]
    },
    {
     "name": "stderr",
     "output_type": "stream",
     "text": [
      "C:\\Users\\BruceSu\\AppData\\Local\\Temp\\ipykernel_21196\\115800254.py:7: SettingWithCopyWarning: \n",
      "A value is trying to be set on a copy of a slice from a DataFrame.\n",
      "Try using .loc[row_indexer,col_indexer] = value instead\n",
      "\n",
      "See the caveats in the documentation: https://pandas.pydata.org/pandas-docs/stable/user_guide/indexing.html#returning-a-view-versus-a-copy\n",
      "  data['Age in report'] = pd.to_numeric(data['Age in report'], errors='coerce')  # Convert errors to NaN\n",
      "C:\\Users\\BruceSu\\AppData\\Local\\Temp\\ipykernel_21196\\115800254.py:8: SettingWithCopyWarning: \n",
      "A value is trying to be set on a copy of a slice from a DataFrame.\n",
      "Try using .loc[row_indexer,col_indexer] = value instead\n",
      "\n",
      "See the caveats in the documentation: https://pandas.pydata.org/pandas-docs/stable/user_guide/indexing.html#returning-a-view-versus-a-copy\n",
      "  data['Age in report'] = data['Age in report'].where(data['Age in report'] <= 100)\n"
     ]
    }
   ],
   "source": [
    "import pandas as pd\n",
    "\n",
    "# Check the unique values before cleaning\n",
    "print(\"Before cleaning:\", data['Age in report'].unique())\n",
    "\n",
    "# Convert non-numeric values and those over 100 to NaN (instead of \"UNKNOWN\")\n",
    "data['Age in report'] = pd.to_numeric(data['Age in report'], errors='coerce')  # Convert errors to NaN\n",
    "data['Age in report'] = data['Age in report'].where(data['Age in report'] <= 100)\n",
    "\n",
    "# Remove rows where 'Age in report' is NaN\n",
    "data = data.dropna(subset=['Age in report'])\n",
    "\n",
    "# Check the unique values after cleaning to verify changes\n",
    "print(\"After cleaning:\", data['Age in report'].unique())\n",
    "print(len(data))"
   ]
  },
  {
   "cell_type": "code",
   "execution_count": 8,
   "metadata": {},
   "outputs": [
    {
     "name": "stdout",
     "output_type": "stream",
     "text": [
      "14114\n"
     ]
    }
   ],
   "source": [
    "data_1 = data.drop_duplicates(subset='Case_id', keep='first')\n",
    "print(len(data_1))"
   ]
  },
  {
   "cell_type": "code",
   "execution_count": 9,
   "metadata": {},
   "outputs": [
    {
     "name": "stderr",
     "output_type": "stream",
     "text": [
      "C:\\Users\\BruceSu\\AppData\\Local\\Temp\\ipykernel_21196\\3276215043.py:8: SettingWithCopyWarning: \n",
      "A value is trying to be set on a copy of a slice from a DataFrame.\n",
      "Try using .loc[row_indexer,col_indexer] = value instead\n",
      "\n",
      "See the caveats in the documentation: https://pandas.pydata.org/pandas-docs/stable/user_guide/indexing.html#returning-a-view-versus-a-copy\n",
      "  data_1['Event'] = data_1['Event'].str.lower()\n",
      "[nltk_data] Downloading package punkt to\n",
      "[nltk_data]     C:\\Users\\BruceSu\\AppData\\Roaming\\nltk_data...\n",
      "[nltk_data]   Package punkt is already up-to-date!\n",
      "[nltk_data] Downloading package stopwords to\n",
      "[nltk_data]     C:\\Users\\BruceSu\\AppData\\Roaming\\nltk_data...\n",
      "[nltk_data]   Package stopwords is already up-to-date!\n",
      "[nltk_data] Downloading package wordnet to\n",
      "[nltk_data]     C:\\Users\\BruceSu\\AppData\\Roaming\\nltk_data...\n",
      "[nltk_data]   Package wordnet is already up-to-date!\n"
     ]
    },
    {
     "name": "stdout",
     "output_type": "stream",
     "text": [
      "2                              diarrhoea renal failure\n",
      "3                                 erectile dysfunction\n",
      "5    abdominal pain upper dry eye dry mouth dysgeus...\n",
      "7                                   diarrhoea vomiting\n",
      "9    concussion dehydration dizziness fall head inj...\n",
      "Name: Cleaned_Text, dtype: object\n"
     ]
    },
    {
     "name": "stderr",
     "output_type": "stream",
     "text": [
      "C:\\Users\\BruceSu\\AppData\\Local\\Temp\\ipykernel_21196\\3276215043.py:34: SettingWithCopyWarning: \n",
      "A value is trying to be set on a copy of a slice from a DataFrame.\n",
      "Try using .loc[row_indexer,col_indexer] = value instead\n",
      "\n",
      "See the caveats in the documentation: https://pandas.pydata.org/pandas-docs/stable/user_guide/indexing.html#returning-a-view-versus-a-copy\n",
      "  data_1['Cleaned_Text'] = data_1['Event'].apply(clean_text)\n"
     ]
    }
   ],
   "source": [
    "import pandas as pd\n",
    "import nltk\n",
    "from nltk.corpus import stopwords\n",
    "from nltk.tokenize import word_tokenize\n",
    "from nltk.stem import WordNetLemmatizer\n",
    "\n",
    "# Convert text to lowercase\n",
    "data_1['Event'] = data_1['Event'].str.lower()\n",
    "\n",
    "# Tokenization and cleaning\n",
    "nltk.download('punkt')\n",
    "nltk.download('stopwords')\n",
    "nltk.download('wordnet')\n",
    "stop_words = set(stopwords.words('english'))\n",
    "lemmatizer = WordNetLemmatizer()\n",
    "\n",
    "def clean_text(text):\n",
    "    # Remove URLs, punctuation, and numbers\n",
    "    text = nltk.re.sub(r'http\\S+', '', text)  # Remove URLs\n",
    "    text = nltk.re.sub(r'[^\\w\\s]', '', text)  # Remove punctuation\n",
    "    text = nltk.re.sub(r'\\d+', '', text)      # Remove numbers\n",
    "\n",
    "    # Tokenization\n",
    "    tokens = word_tokenize(text)\n",
    "    \n",
    "    # Remove stopwords and short words\n",
    "    cleaned_tokens = [lemmatizer.lemmatize(word) for word in tokens if word not in stop_words and len(word) > 1]\n",
    "    \n",
    "    # Join tokens back into a string\n",
    "    cleaned_text = ' '.join(cleaned_tokens)\n",
    "    \n",
    "    return cleaned_text\n",
    "\n",
    "data_1['Cleaned_Text'] = data_1['Event'].apply(clean_text)\n",
    "\n",
    "# Now data_1['Cleaned_Text'] contains cleaned events as continuous text.\n",
    "print(data_1['Cleaned_Text'].head())"
   ]
  },
  {
   "cell_type": "code",
   "execution_count": 10,
   "metadata": {},
   "outputs": [
    {
     "data": {
      "text/plain": [
       "(127410, 88982)"
      ]
     },
     "execution_count": 10,
     "metadata": {},
     "output_type": "execute_result"
    }
   ],
   "source": [
    "events_text = \" \".join(data_1['Event'].dropna().astype(str))  # Convert all event texts into a single string\n",
    "\n",
    "# Convert text to lowercase and tokenize\n",
    "tokens = word_tokenize(events_text.lower())\n",
    "total_words = len(tokens)\n",
    "\n",
    "# Removing stopwords\n",
    "stop_words = set(stopwords.words('english'))\n",
    "filtered_tokens = [word for word in tokens if word not in stop_words and word.isalpha()]  # Remove non-alphabetic tokens\n",
    "remaining_words = len(filtered_tokens)\n",
    "\n",
    "total_words, remaining_words"
   ]
  },
  {
   "cell_type": "code",
   "execution_count": 11,
   "metadata": {},
   "outputs": [
    {
     "name": "stdout",
     "output_type": "stream",
     "text": [
      "2                                  diarrhoea renal failure\n",
      "3                                     erectile dysfunction\n",
      "5        abdominal pain upper dry eye dry mouth dysgeus...\n",
      "7                                       diarrhoea vomiting\n",
      "9        concussion dehydration dizziness fall head inj...\n",
      "                               ...                        \n",
      "67802    product dose omission issue psoriasis therapeu...\n",
      "67816    blood glucose decreased constipation decreased...\n",
      "67817    dizziness hyperhidrosis label use palpitation ...\n",
      "67818                                       covid vomiting\n",
      "67823                                            dizziness\n",
      "Name: Cleaned_Text, Length: 14114, dtype: object\n"
     ]
    }
   ],
   "source": [
    "print(data_1['Cleaned_Text'])"
   ]
  },
  {
   "cell_type": "code",
   "execution_count": 12,
   "metadata": {},
   "outputs": [
    {
     "name": "stderr",
     "output_type": "stream",
     "text": [
      "C:\\Users\\BruceSu\\AppData\\Local\\Temp\\ipykernel_21196\\3053573682.py:3: SettingWithCopyWarning: \n",
      "A value is trying to be set on a copy of a slice from a DataFrame.\n",
      "Try using .loc[row_indexer,col_indexer] = value instead\n",
      "\n",
      "See the caveats in the documentation: https://pandas.pydata.org/pandas-docs/stable/user_guide/indexing.html#returning-a-view-versus-a-copy\n",
      "  data_1['Event'] = data_1['Event'].str.split('/')\n"
     ]
    },
    {
     "name": "stdout",
     "output_type": "stream",
     "text": [
      "         ISR Date received                                        Outcome  \\\n",
      "0  190090071     2021/3/16  Hospitalization - Initial or Prolonged/ Other   \n",
      "1  190090071     2021/3/16  Hospitalization - Initial or Prolonged/ Other   \n",
      "2  220466471     2023/2/28                                          Other   \n",
      "3  203656231     2022/1/23                                            NaN   \n",
      "4  203656231     2022/1/23                                            NaN   \n",
      "\n",
      "       Drug_seq Original name Pharma product    Drug name  \\\n",
      "0  1.900900e+11       OZEMPIC        ozempic  semaglutide   \n",
      "1  1.900900e+11       OZEMPIC        ozempic  semaglutide   \n",
      "2  2.204660e+11   SEMAGLUTIDE            NaN  semaglutide   \n",
      "3  2.036560e+11       OZEMPIC        ozempic  semaglutide   \n",
      "4  2.036560e+11       OZEMPIC        ozempic  semaglutide   \n",
      "\n",
      "                Role code         Route       Dosis Calculated daily dosis  \\\n",
      "0  Secondary Suspect Drug       Unknown         UNK                    NaN   \n",
      "1  Secondary Suspect Drug       Unknown         UNK                    NaN   \n",
      "2    Primary Suspect Drug  Subcutaneous  0.5 mg, qw                    NaN   \n",
      "3    Primary Suspect Drug  Subcutaneous  0.5 mg, qw                    NaN   \n",
      "4    Primary Suspect Drug  Subcutaneous  0.5 mg, qw                    NaN   \n",
      "\n",
      "                             Indication                 Event   Case_id  \\\n",
      "0   product used for unknown indication             diarrhoea  19009007   \n",
      "1   product used for unknown indication         renal failure  19009007   \n",
      "2                                        erectile dysfunction  22046647   \n",
      "3   product used for unknown indication  abdominal pain upper  20365623   \n",
      "4   product used for unknown indication               dry eye  20365623   \n",
      "\n",
      "  Gender Reporter country  Age in report  \\\n",
      "0    F                 ES           63.0   \n",
      "1    F                 ES           63.0   \n",
      "2    M                 US           46.0   \n",
      "3    F                 US           64.0   \n",
      "4    F                 US           64.0   \n",
      "\n",
      "                                        Cleaned_Text  \n",
      "0                            diarrhoea renal failure  \n",
      "1                            diarrhoea renal failure  \n",
      "2                               erectile dysfunction  \n",
      "3  abdominal pain upper dry eye dry mouth dysgeus...  \n",
      "4  abdominal pain upper dry eye dry mouth dysgeus...  \n"
     ]
    }
   ],
   "source": [
    "import pandas as pd\n",
    "\n",
    "data_1['Event'] = data_1['Event'].str.split('/')\n",
    "data_2 = data_1.explode('Event').reset_index(drop=True)\n",
    "\n",
    "# Optionally, you might want to clean up whitespace and convert each event to lowercase\n",
    "data_2['Event'] = data_2['Event'].str.strip().str.lower()\n",
    "\n",
    "# Save the processed data to a new CSV file\n",
    "data_2.to_csv('processed_data_2.csv', index=False)\n",
    "\n",
    "# Optionally, display the head of the new DataFrame to confirm it looks correct\n",
    "print(data_2.head())\n"
   ]
  },
  {
   "cell_type": "code",
   "execution_count": 13,
   "metadata": {},
   "outputs": [
    {
     "name": "stdout",
     "output_type": "stream",
     "text": [
      "48055\n"
     ]
    }
   ],
   "source": [
    "print(len(data_2))"
   ]
  },
  {
   "cell_type": "code",
   "execution_count": 14,
   "metadata": {},
   "outputs": [
    {
     "name": "stderr",
     "output_type": "stream",
     "text": [
      "C:\\Users\\BruceSu\\AppData\\Local\\Packages\\PythonSoftwareFoundation.Python.3.11_qbz5n2kfra8p0\\LocalCache\\local-packages\\Python311\\site-packages\\tqdm\\auto.py:21: TqdmWarning: IProgress not found. Please update jupyter and ipywidgets. See https://ipywidgets.readthedocs.io/en/stable/user_install.html\n",
      "  from .autonotebook import tqdm as notebook_tqdm\n",
      "Some weights of BertForTokenClassification were not initialized from the model checkpoint at dmis-lab/biobert-v1.1 and are newly initialized: ['classifier.bias', 'classifier.weight']\n",
      "You should probably TRAIN this model on a down-stream task to be able to use it for predictions and inference.\n"
     ]
    }
   ],
   "source": [
    "import pandas as pd\n",
    "from transformers import AutoTokenizer, AutoModelForTokenClassification, pipeline\n",
    "\n",
    "tokenizer = AutoTokenizer.from_pretrained(\"dmis-lab/biobert-v1.1\")\n",
    "model = AutoModelForTokenClassification.from_pretrained(\"dmis-lab/biobert-v1.1\")\n",
    "nlp = pipeline(\"ner\", model=model, tokenizer=tokenizer)"
   ]
  },
  {
   "cell_type": "code",
   "execution_count": 15,
   "metadata": {},
   "outputs": [
    {
     "name": "stdout",
     "output_type": "stream",
     "text": [
      "['COAGULATION FACTOR DEFICIENCY' 'COLOUR BLINDNESS ACQUIRED'\n",
      " 'EAR DEFORMITY ACQUIRED' ... 'ACNE OCCUPATIONAL' 'ACNE VARIOLIFORMIS'\n",
      " 'ACOUSTIC NEUROMA REMOVAL']\n"
     ]
    }
   ],
   "source": [
    "import pandas as pd\n",
    "from transformers import AutoTokenizer, AutoModelForSequenceClassification, pipeline\n",
    "from sklearn.feature_extraction.text import TfidfVectorizer\n",
    "from sklearn.metrics.pairwise import cosine_similarity\n",
    "\n",
    "categories = pd.read_excel('MedDRA.xlsx', usecols=['pt_name_en'])\n",
    "unique_categories = categories['pt_name_en'].unique()\n",
    "\n",
    "print(unique_categories)"
   ]
  },
  {
   "cell_type": "code",
   "execution_count": 16,
   "metadata": {},
   "outputs": [
    {
     "name": "stderr",
     "output_type": "stream",
     "text": [
      "Some weights of RobertaForSequenceClassification were not initialized from the model checkpoint at tdobrxl/ClinicBERT and are newly initialized: ['classifier.dense.bias', 'classifier.dense.weight', 'classifier.out_proj.bias', 'classifier.out_proj.weight']\n",
      "You should probably TRAIN this model on a down-stream task to be able to use it for predictions and inference.\n"
     ]
    }
   ],
   "source": [
    "\n",
    "model_name = \"tdobrxl/ClinicBERT\"\n",
    "tokenizer = AutoTokenizer.from_pretrained(model_name)\n",
    "model = AutoModelForSequenceClassification.from_pretrained(model_name)\n",
    "classifier = pipeline(\"text-classification\", model=model, tokenizer=tokenizer)\n",
    "\n",
    "vectorizer = TfidfVectorizer()\n",
    "category_vectors = vectorizer.fit_transform(unique_categories)\n",
    "\n",
    "def find_best_match(text, category_vectors, unique_categories):\n",
    "    text_vector = vectorizer.transform([text])\n",
    "    similarities = cosine_similarity(text_vector, category_vectors)\n",
    "    best_match_index = similarities.argmax()\n",
    "    best_match_score = similarities[0][best_match_index] \n",
    "    similarity_threshold = 0.5  \n",
    "\n",
    "    if best_match_score < similarity_threshold:\n",
    "        return 'Uncategorized'\n",
    "    else:\n",
    "        return unique_categories[best_match_index]\n",
    "\n",
    "def classify_and_match_event(event):\n",
    "\n",
    "    result = classifier(event)\n",
    "    predicted_category = result[0]['label']\n",
    "    \n",
    "    best_match = find_best_match(event, category_vectors, unique_categories)\n",
    "    \n",
    "    if predicted_category in unique_categories and predicted_category == best_match:\n",
    "        return predicted_category\n",
    "    else:\n",
    "        return best_match  \n",
    "\n",
    "data_2['Category'] = data_2['Event'].apply(classify_and_match_event)\n",
    "\n",
    "data_2.to_csv('final_classified_data.csv', index=False)\n",
    "\n",
    "print(data_2.head())"
   ]
  },
  {
   "cell_type": "code",
   "execution_count": 35,
   "metadata": {},
   "outputs": [
    {
     "name": "stdout",
     "output_type": "stream",
     "text": [
      "Category\n",
      "NAUSEA                                              2523\n",
      "VOMITING                                            1755\n",
      "DIARRHOEA                                           1386\n",
      "OFF LABEL USE                                       1151\n",
      "DECREASED APPETITE                                   900\n",
      "HEADACHE                                             719\n",
      "WEIGHT DECREASED                                     699\n",
      "CONSTIPATION                                         694\n",
      "FATIGUE                                              676\n",
      "BLOOD GLUCOSE INCREASED                              667\n",
      "DIZZINESS                                            610\n",
      "ABDOMINAL PAIN UPPER                                 542\n",
      "PRODUCT USE IN UNAPPROVED INDICATION                 500\n",
      "ABDOMINAL PAIN                                       480\n",
      "ASTHENIA                                             449\n",
      "MALAISE                                              383\n",
      "DEHYDRATION                                          381\n",
      "INAPPROPRIATE SCHEDULE OF PRODUCT ADMINISTRATION     361\n",
      "ABDOMINAL DISTENSION                                 348\n",
      "ABDOMINAL DISCOMFORT                                 332\n",
      "Name: count, dtype: int64\n"
     ]
    }
   ],
   "source": [
    "category_counts = data_2['Category'].value_counts()\n",
    "print(category_counts.head(20))"
   ]
  },
  {
   "cell_type": "code",
   "execution_count": 37,
   "metadata": {},
   "outputs": [
    {
     "data": {
      "text/plain": [
       "3.404775400311747"
      ]
     },
     "execution_count": 37,
     "metadata": {},
     "output_type": "execute_result"
    }
   ],
   "source": [
    "len(data_2) / len(data_1)"
   ]
  },
  {
   "cell_type": "code",
   "execution_count": null,
   "metadata": {},
   "outputs": [],
   "source": []
  },
  {
   "cell_type": "code",
   "execution_count": 35,
   "metadata": {},
   "outputs": [
    {
     "name": "stdout",
     "output_type": "stream",
     "text": [
      "各变量缺失值数量：\n",
      "Role code         0\n",
      "Indication        0\n",
      "Gender            0\n",
      "Age Group         0\n",
      "Year              0\n",
      "Event Category    0\n",
      "dtype: int64\n"
     ]
    },
    {
     "data": {
      "image/png": "[encoded data removed]",
      "text/plain": [
       "<Figure size 1000x800 with 2 Axes>"
      ]
     },
     "metadata": {},
     "output_type": "display_data"
    }
   ],
   "source": [
    "import pandas as pd\n",
    "import matplotlib.pyplot as plt\n",
    "from dython import nominal\n",
    "\n",
    "# 1. 读取文件“classified_data.csv”中的数据形成data_3\n",
    "data_3 = pd.read_csv('classified_data.csv')\n",
    "\n",
    "# 2. 对缺失值处理：检查上述变量中是否存在缺失值。对于缺失值，可以选择删除相关记录\n",
    "selected_vars = ['Role code', 'Indication', 'Gender', 'Age Group', 'Year', 'Event Category']\n",
    "data_3 = data_3[selected_vars]\n",
    "\n",
    "# 检查缺失值\n",
    "print(\"各变量缺失值数量：\")\n",
    "print(data_3.isnull().sum())\n",
    "\n",
    "# 删除包含缺失值的记录\n",
    "data_3 = data_3.dropna()\n",
    "\n",
    "# 将Year转换为数值类型\n",
    "data_3['Year'] = pd.to_numeric(data_3['Year'], errors='coerce')\n",
    "\n",
    "# 再次处理缺失值（由于转换可能引入NaN）\n",
    "data_3 = data_3.dropna()\n",
    "\n",
    "# 3. 确保分类变量为字符串类型\n",
    "categorical_vars = ['Role code', 'Indication', 'Gender', 'Age Group', 'Event Category']\n",
    "for col in categorical_vars:\n",
    "    data_3[col] = data_3[col].astype(str)\n",
    "\n",
    "# 4. 保留数值变量Year不变\n",
    "\n",
    "# 5. 绘制所选变量的关联度热力图\n",
    "associations = nominal.associations(\n",
    "    data_3,\n",
    "    nominal_columns=categorical_vars,\n",
    "    figsize=(10, 8),\n",
    "    mark_columns=True,\n",
    "    cmap='Spectral',\n",
    "    annot=True,\n",
    "    fmt='.2f',\n",
    "    title='Variable correlation heat map'\n",
    ")\n",
    "\n",
    "# 显示图形\n",
    "plt.show()\n"
   ]
  },
  {
   "cell_type": "code",
   "execution_count": 36,
   "metadata": {},
   "outputs": [
    {
     "name": "stdout",
     "output_type": "stream",
     "text": [
      "\n",
      "Role code 的所有唯一值：\n",
      "['Secondary Suspect Drug' 'Primary Suspect Drug' 'Concomitant'\n",
      " 'Interacting']\n",
      "\n",
      "Indication 的所有唯一值：\n",
      "[' product used for unknown indication' ' ' ' weight decreased'\n",
      " ' diabetes mellitus' ' obesity' ' type 2 diabetes mellitus'\n",
      " ' blood glucose increased' ' glucose tolerance impaired'\n",
      " ' type 1 diabetes mellitus' ' weight control' ' cardiac disorder'\n",
      " ' postprandial hypoglycaemia' ' overweight'\n",
      " ' diabetes mellitus weight decreased'\n",
      " ' glucose tolerance impaired obesity' ' insulin resistant diabetes'\n",
      " ' glycosylated haemoglobin increased'\n",
      " ' glycosylated haemoglobin decreased' ' deep vein thrombosis'\n",
      " ' adverse drug reaction' ' hepatic steatosis' ' metabolic syndrome'\n",
      " ' diabetes mellitus inadequate control' ' body mass index increased'\n",
      " ' poisoning deliberate' ' insulin resistance' ' drug therapy'\n",
      " ' weight increased' ' cartilage graft'\n",
      " ' diabetes mellitus weight loss diet' ' pain' ' glycosylated haemoglobin'\n",
      " ' glucose tolerance impaired weight decreased'\n",
      " ' diabetes mellitus obesity' ' blood glucose' ' weight loss poor'\n",
      " ' hyperglycaemia' ' insulin-requiring type 2 diabetes mellitus'\n",
      " ' atrial fibrillation' ' ill-defined disorder' ' decreased appetite'\n",
      " ' migraine' ' blood glucose fluctuation' ' fat tissue increased'\n",
      " ' non-alcoholic steatohepatitis' ' diarrhoea' ' hypercholesterolaemia'\n",
      " ' polycystic ovarian syndrome' ' blood glucose abnormal'\n",
      " ' diabetes mellitus management' ' lipid metabolism disorder'\n",
      " ' body fat disorder' ' glucose tolerance impaired weight increased'\n",
      " ' polycystic ovaries' ' back pain weight control'\n",
      " ' blood glucose increased glycosylated haemoglobin increased weight decreased'\n",
      " ' diabetic vascular disorder' ' coronary artery occlusion' ' lymphoedema'\n",
      " ' hypoglycaemia' ' cardiac failure' ' glycosylated haemoglobin abnormal'\n",
      " ' aortic arteriosclerosis' ' off label use' ' weight'\n",
      " ' product use in unapproved indication' ' diabetic nephropathy'\n",
      " ' insulin resistance polycystic ovaries weight control'\n",
      " ' acute kidney injury' ' fluid retention' ' abdominal pain upper'\n",
      " ' ill-defined disorder weight decreased' ' laboratory test abnormal'\n",
      " ' diabetes mellitus inadequate control glucose tolerance impaired'\n",
      " ' blood pressure increased' ' supplementation therapy'\n",
      " ' blood cholesterol increased' ' asthma'\n",
      " ' adenocarcinoma pancreas bile duct adenocarcinoma' ' menopause'\n",
      " ' hypertension' ' obesity weight decreased'\n",
      " ' body mass index increased type 1 diabetes mellitus'\n",
      " ' blood glucose decreased' ' food craving' \" cushing's syndrome\"\n",
      " ' type 2 diabetes mellitus weight decreased' ' rhinorrhoea'\n",
      " \" crohn's disease\" ' blood glucose increased weight decreased'\n",
      " ' medical diet' ' abdominal discomfort'\n",
      " ' blood glucose abnormal weight decreased' ' suicide attempt'\n",
      " ' renal disorder' ' diabetes prophylaxis' ' blood insulin abnormal'\n",
      " ' cardiac disorder weight decreased' ' appetite disorder'\n",
      " ' cardiovascular disorder glucose tolerance impaired' ' prophylaxis'\n",
      " ' body mass index abnormal' ' renal failure' ' overdose'\n",
      " ' ocular discomfort' ' blood glucose increased insulin resistance'\n",
      " ' suicidal ideation' ' hair growth abnormal' ' increased appetite'\n",
      " ' blood glucose increased weight increased'\n",
      " ' diabetes mellitus weight abnormal' ' cardiovascular event prophylaxis'\n",
      " ' arthritis' ' chronic kidney disease diabetes mellitus'\n",
      " ' diabetes insipidus' ' coronary artery disease'\n",
      " ' hormone level abnormal' ' diabetic complication'\n",
      " ' polycystic ovaries weight decreased'\n",
      " ' glycosylated haemoglobin increased weight decreased' ' hypothyroidism'\n",
      " ' routine health maintenance' ' pancreatitis acute'\n",
      " ' glycosylated haemoglobin increased weight control'\n",
      " ' blood triglycerides increased' ' psoriatic arthropathy'\n",
      " ' coronary arterial stent insertion diabetes mellitus'\n",
      " ' rheumatoid arthritis' ' affective disorder'\n",
      " ' diabetic complication neurological' ' pancreatic carcinoma'\n",
      " ' steroid diabetes' ' eczema' ' obesity type 2 diabetes mellitus'\n",
      " ' weight abnormal'\n",
      " ' body mass index increased glycosylated haemoglobin increased'\n",
      " ' cardiovascular disorder' ' insulin resistance weight'\n",
      " ' cardiovascular disorder obesity' ' proteinuria'\n",
      " ' hypertrophic cardiomyopathy'\n",
      " ' glucose tolerance impaired increased appetite'\n",
      " ' blood glucose weight decreased' ' impaired fasting glucose']\n",
      "\n",
      "Event Category 的所有唯一值：\n",
      "['DIARRHOEA' 'RENAL FAILURE' 'ERECTILE DYSFUNCTION' ... 'PERTUSSIS'\n",
      " 'THERAPEUTIC PROCEDURE' 'SKIN TEXTURE ABNORMAL']\n"
     ]
    }
   ],
   "source": [
    "print(\"\\nRole code 的所有唯一值：\")\n",
    "print(data_3['Role code'].unique())\n",
    "\n",
    "print(\"\\nIndication 的所有唯一值：\")\n",
    "print(data_3['Indication'].unique())\n",
    "\n",
    "print(\"\\nEvent Category 的所有唯一值：\")\n",
    "print(data_3['Event Category'].unique())"
   ]
  }
 ],
 "metadata": {
  "kernelspec": {
   "display_name": "Python 3",
   "language": "python",
   "name": "python3"
  },
  "language_info": {
   "codemirror_mode": {
    "name": "ipython",
    "version": 3
   },
   "file_extension": ".py",
   "mimetype": "text/x-python",
   "name": "python",
   "nbconvert_exporter": "python",
   "pygments_lexer": "ipython3",
   "version": "3.11.5"
  }
 },
 "nbformat": 4,
 "nbformat_minor": 2
}
