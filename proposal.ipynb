{
 "cells": [
  {
   "cell_type": "code",
   "execution_count": 3,
   "metadata": {},
   "outputs": [
    {
     "data": {
      "text/plain": [
       "'Semaglutide_Research_Presentation.pptx'"
      ]
     },
     "execution_count": 3,
     "metadata": {},
     "output_type": "execute_result"
    }
   ],
   "source": [
    "from pptx import Presentation\n",
    "from pptx.util import Inches\n",
    "\n",
    "# Create a presentation object\n",
    "prs = Presentation()\n",
    "\n",
    "# Slide 1: Title Slide\n",
    "slide_1 = prs.slides.add_slide(prs.slide_layouts[0])\n",
    "title = slide_1.shapes.title\n",
    "subtitle = slide_1.placeholders[1]\n",
    "title.text = \"Machine Learning Analysis of Adverse Events Related to Semaglutide Based on FAERS\"\n",
    "subtitle.text = \"Yihang Yang\\nUniversity of Adelaide\\nDate: October 2024\"\n",
    "\n",
    "# Slide 2: Introduction\n",
    "slide_2 = prs.slides.add_slide(prs.slide_layouts[1])\n",
    "title, content = slide_2.shapes.title, slide_2.placeholders[1]\n",
    "title.text = \"Introduction\"\n",
    "content.text = (\"Purpose: Analyze adverse events associated with Semaglutide using NLP techniques.\\n\"\n",
    "                \"Background: Launched in 2017, significant for diabetes management.\\n\"\n",
    "                \"Objective: Understand adverse effects to inform healthcare decisions.\")\n",
    "\n",
    "# Slide 3: Background\n",
    "slide_3 = prs.slides.add_slide(prs.slide_layouts[1])\n",
    "title, content = slide_3.shapes.title, slide_3.placeholders[1]\n",
    "title.text = \"Background\"\n",
    "content.text = (\"Clinical Use: Treats type 2 diabetes, offers weight loss benefits.\\n\"\n",
    "                \"Market Relevance: Rapid market expansion, increasing user base.\")\n",
    "\n",
    "# Slide 4: Data Collection\n",
    "slide_4 = prs.slides.add_slide(prs.slide_layouts[1])\n",
    "title, content = slide_4.shapes.title, slide_4.placeholders[1]\n",
    "title.text = \"Data Collection\"\n",
    "content.text = (\"Source: FAERS database.\\n\"\n",
    "                \"Criteria: Reports from 2018 to 2024 Q1, terms like 'semaglutide'.\")\n",
    "\n",
    "# Slide 5: Data Cleaning and Preparation\n",
    "slide_5 = prs.slides.add_slide(prs.slide_layouts[1])\n",
    "title, content = slide_5.shapes.title, slide_5.placeholders[1]\n",
    "title.text = \"Data Cleaning and Preparation\"\n",
    "content.text = (\"Initial Data: 19,497 records.\\n\"\n",
    "                \"Cleaning Steps: Standardized data, deduplication, filtered by valid criteria.\")\n",
    "\n",
    "# Slide 6: Methodology\n",
    "slide_6 = prs.slides.add_slide(prs.slide_layouts[1])\n",
    "title, content = slide_6.shapes.title, slide_6.placeholders[1]\n",
    "title.text = \"Methodology\"\n",
    "content.text = (\"Tools: ClinicalBERT, TF-IDF + cosine similarity.\\n\"\n",
    "                \"Keyword Extraction: Identified and categorized adverse events using NER.\")\n",
    "\n",
    "# Slide 7: Results – Demographics\n",
    "slide_7 = prs.slides.add_slide(prs.slide_layouts[1])\n",
    "title, content = slide_7.shapes.title, slide_7.placeholders[1]\n",
    "title.text = \"Results – Demographics\"\n",
    "content.text = (\"General Findings: Females 60%, Males 38%.\\n\"\n",
    "                \"Age Groups: Most reports from age 56 to 70.\")\n",
    "\n",
    "# Slide 8: Results – Adverse Events\n",
    "slide_8 = prs.slides.add_slide(prs.slide_layouts[1])\n",
    "title, content = slide_8.shapes.title, slide_8.placeholders[1]\n",
    "title.text = \"Results – Adverse Events\"\n",
    "content.text = (\"Top Events: Nausea, vomiting, diarrhea.\\n\"\n",
    "                \"Yearly Trends: Significant increase in reports over the years.\")\n",
    "\n",
    "# Slide 9: Discussion\n",
    "slide_9 = prs.slides.add_slide(prs.slide_layouts[1])\n",
    "title, content = slide_9.shapes.title, slide_9.placeholders[1]\n",
    "title.text = \"Discussion\"\n",
    "content.text = (\"Analysis: Evaluated data trends and patterns.\\n\"\n",
    "                \"Insights: Identified critical adverse events and demographic trends.\")\n",
    "\n",
    "# Slide 10: Limitations and Future Work\n",
    "slide_10 = prs.slides.add_slide(prs.slide_layouts[1])\n",
    "title, content = slide_10.shapes.title, slide_10.placeholders[1]\n",
    "title.text = \"Limitations and Future Work\"\n",
    "content.text = (\"Limitations: Potential biases, short duration of data.\\n\"\n",
    "                \"Future Directions: Deeper correlations, sentiment analysis in Part B.\")\n",
    "\n",
    "# Slide 11: Conclusion\n",
    "slide_11 = prs.slides.add_slide(prs.slide_layouts[1])\n",
    "title, content = slide_11.shapes.title, slide_11.placeholders[1]\n",
    "title.text = \"Conclusion\"\n",
    "content.text = (\"Summary: Recapped study objectives and findings.\\n\"\n",
    "                \"Implications: Inform healthcare and policy decisions.\")\n",
    "\n",
    "# Slide 12: References\n",
    "slide_12 = prs.slides.add_slide(prs.slide_layouts[1])\n",
    "title, content = slide_12.shapes.title, slide_12.placeholders[1]\n",
    "title.text = \"References\"\n",
    "content.text = (\"[1] Elsayed, N.A., et al., 2023. Diabetes Care, 46.\\n\"\n",
    "                \"[2] Pharmaceutical Technology, 2023. Novo Nordisk and Ozempic.\\n\"\n",
    "                \"More references as cited in the original document.\")\n",
    "\n",
    "# Slide 13: Acknowledgements\n",
    "slide_13 = prs.slides.add_slide(prs.slide_layouts[1])\n",
    "title, content = slide_13.shapes.title, slide_13.placeholders[1]\n",
    "title.text = \"Acknowledgements\"\n",
    "content.text = (\"Contributions: Acknowledge team and individual contributions.\\n\"\n",
    "                \"Thanks: Express gratitude to supervisors and peers.\")\n",
    "\n",
    "# Save the presentation\n",
    "prs_path = \"Semaglutide_Research_Presentation.pptx\"\n",
    "prs.save(prs_path)\n",
    "prs_path\n"
   ]
  },
  {
   "cell_type": "code",
   "execution_count": 2,
   "metadata": {},
   "outputs": [
    {
     "name": "stdout",
     "output_type": "stream",
     "text": [
      "Collecting python-pptxNote: you may need to restart the kernel to use updated packages.\n",
      "\n",
      "  Downloading python_pptx-1.0.2-py3-none-any.whl.metadata (2.5 kB)\n",
      "Requirement already satisfied: Pillow>=3.3.2 in c:\\users\\brucesu\\appdata\\local\\packages\\pythonsoftwarefoundation.python.3.11_qbz5n2kfra8p0\\localcache\\local-packages\\python311\\site-packages (from python-pptx) (10.2.0)\n",
      "Collecting XlsxWriter>=0.5.7 (from python-pptx)\n",
      "  Downloading XlsxWriter-3.2.0-py3-none-any.whl.metadata (2.6 kB)\n",
      "Collecting lxml>=3.1.0 (from python-pptx)\n",
      "  Downloading lxml-5.3.0-cp311-cp311-win_amd64.whl.metadata (3.9 kB)\n",
      "Requirement already satisfied: typing-extensions>=4.9.0 in c:\\users\\brucesu\\appdata\\local\\packages\\pythonsoftwarefoundation.python.3.11_qbz5n2kfra8p0\\localcache\\local-packages\\python311\\site-packages (from python-pptx) (4.10.0)\n",
      "Downloading python_pptx-1.0.2-py3-none-any.whl (472 kB)\n",
      "Downloading lxml-5.3.0-cp311-cp311-win_amd64.whl (3.8 MB)\n",
      "   ---------------------------------------- 0.0/3.8 MB ? eta -:--:--\n",
      "   ---------------------------------------- 3.8/3.8 MB 32.6 MB/s eta 0:00:00\n",
      "Downloading XlsxWriter-3.2.0-py3-none-any.whl (159 kB)\n",
      "Installing collected packages: XlsxWriter, lxml, python-pptx\n",
      "Successfully installed XlsxWriter-3.2.0 lxml-5.3.0 python-pptx-1.0.2\n"
     ]
    }
   ],
   "source": [
    "pip install python-pptx"
   ]
  }
 ],
 "metadata": {
  "kernelspec": {
   "display_name": "Python 3",
   "language": "python",
   "name": "python3"
  },
  "language_info": {
   "codemirror_mode": {
    "name": "ipython",
    "version": 3
   },
   "file_extension": ".py",
   "mimetype": "text/x-python",
   "name": "python",
   "nbconvert_exporter": "python",
   "pygments_lexer": "ipython3",
   "version": "3.11.9"
  }
 },
 "nbformat": 4,
 "nbformat_minor": 2
}
